{
 "cells": [
  {
   "cell_type": "code",
   "execution_count": 2,
   "metadata": {},
   "outputs": [
    {
     "name": "stdout",
     "output_type": "stream",
     "text": [
      "24942 / 75058\n"
     ]
    }
   ],
   "source": [
    "import random\n",
    "\n",
    "N = 100_000\n",
    "\n",
    "result = {\"HH\": 0, \"TH\": 0}\n",
    "stamp = []\n",
    "\n",
    "i = 1\n",
    "while i <= N:\n",
    "    record = []\n",
    "    # while loop for each heads and tails case\n",
    "    while True:\n",
    "        number = random.randint(0, 1)\n",
    "        if number == 0:\n",
    "            record.append(\"H\")\n",
    "        else:\n",
    "            record.append(\"T\")\n",
    "        \n",
    "        if len(record) > 1:\n",
    "            if record[len(record)-2] == \"H\" and record[len(record)-1] == \"H\":\n",
    "                result[\"HH\"] = result[\"HH\"] + 1\n",
    "                break\n",
    "            elif record[len(record)-2] == \"T\" and record[len(record)-1] == \"H\":\n",
    "                result[\"TH\"] = result[\"TH\"] + 1\n",
    "                break\n",
    "    # End of inner while loop\n",
    "    stamp.append(record)\n",
    "    i = i + 1\n",
    "\n",
    "print(str(result[\"HH\"]) + \" / \" + str(result[\"TH\"]))"
   ]
  }
 ],
 "metadata": {
  "kernelspec": {
   "display_name": "Python 3",
   "language": "python",
   "name": "python3"
  },
  "language_info": {
   "codemirror_mode": {
    "name": "ipython",
    "version": 3
   },
   "file_extension": ".py",
   "mimetype": "text/x-python",
   "name": "python",
   "nbconvert_exporter": "python",
   "pygments_lexer": "ipython3",
   "version": "3.10.9"
  },
  "orig_nbformat": 4
 },
 "nbformat": 4,
 "nbformat_minor": 2
}
