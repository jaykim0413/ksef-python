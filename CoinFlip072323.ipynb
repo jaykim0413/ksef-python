{
 "cells": [
  {
   "cell_type": "code",
   "execution_count": 9,
   "metadata": {},
   "outputs": [],
   "source": [
    "import numpy as np\n",
    "import pandas as pd\n",
    "import random"
   ]
  },
  {
   "cell_type": "code",
   "execution_count": null,
   "metadata": {},
   "outputs": [],
   "source": [
    "def index_win_ratio(a, b, n):\n",
    "\n",
    "    N = 10_000\n",
    "\n",
    "    result = {\"first\": 0, \"second\": 0}\n",
    "\n",
    "    for i in range(N):\n",
    "        # while loop for each heads and tails case\n",
    "\n",
    "#         lastflip, thisflip = \"U\", \"U\"\n",
    "#         while True:\n",
    "#             number = random.randint(0, 1)\n",
    "#             if number == 0:\n",
    "#                 thisflip = \"H\"\n",
    "#             else:\n",
    "#                 thisflip = \"T\"\n",
    "\n",
    "#             if lastflip + thisflip == a:\n",
    "#                 result[a] += 1\n",
    "#                 break\n",
    "#             if lastflip + thisflip == b:\n",
    "#                 result[b] += 1\n",
    "#                 break\n",
    "#             lastflip = thisflip\n",
    "\n",
    "        flips = np.zeros(n)\n",
    "        while True:\n",
    "            for j in range(1, n):\n",
    "                flips[j - 1] = flips[j]\n",
    "                \n",
    "            number = random.randint(1, 2)\n",
    "            flips[n - 1] = number\n",
    "            \n",
    "            if (flips == a).all():\n",
    "                result[\"first\"] += 1\n",
    "                break\n",
    "            if (flips == b).all():\n",
    "                result[\"second\"] += 1\n",
    "                break\n",
    "                \n",
    "    return result[\"first\"] / (result[\"first\"] + result[\"second\"])"
   ]
  },
  {
   "cell_type": "code",
   "execution_count": null,
   "metadata": {},
   "outputs": [],
   "source": [
    "def make_arrays(n):\n",
    "    if n == 1:\n",
    "        return [np.array([1]), np.array([2])]\n",
    "    arrays = []\n",
    "    for i in [1, 2]:\n",
    "        for array in make_arrays(n - 1):\n",
    "            arrays.append(np.append(array, i))\n",
    "    return arrays"
   ]
  },
  {
   "cell_type": "code",
   "execution_count": null,
   "metadata": {
    "scrolled": true
   },
   "outputs": [],
   "source": [
    "n = 3\n",
    "arr = make_arrays(n)\n",
    "dfindex = []\n",
    "for a in arr:\n",
    "    dfindex.append(np.array2string(a))\n",
    "df = pd.DataFrame(index = dfindex, columns = dfindex)\n",
    "for a in arr:\n",
    "    for b in arr:\n",
    "        df.loc[np.array2string(a), np.array2string(b)] = index_win_ratio(a, b, n)\n",
    "df"
   ]
  }
 ],
 "metadata": {
  "kernelspec": {
   "display_name": "Python 3 (ipykernel)",
   "language": "python",
   "name": "python3"
  },
  "language_info": {
   "codemirror_mode": {
    "name": "ipython",
    "version": 3
   },
   "file_extension": ".py",
   "mimetype": "text/x-python",
   "name": "python",
   "nbconvert_exporter": "python",
   "pygments_lexer": "ipython3",
   "version": "3.11.3"
  }
 },
 "nbformat": 4,
 "nbformat_minor": 2
}
