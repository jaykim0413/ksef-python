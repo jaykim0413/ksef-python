{
 "cells": [
  {
   "cell_type": "code",
   "execution_count": 7,
   "metadata": {},
   "outputs": [
    {
     "name": "stdout",
     "output_type": "stream",
     "text": [
      "24972 / 75028\n"
     ]
    }
   ],
   "source": [
    "import random\n",
    "\n",
    "N = 100_000\n",
    "\n",
    "result = {\"HH\": 0, \"TH\": 0}\n",
    "\n",
    "for i in range(N):\n",
    "    # while loop for each heads and tails case\n",
    "    lastflip, thisflip = \"U\", \"U\"\n",
    "    while True:\n",
    "        number = random.randint(0, 1)\n",
    "        if number == 0:\n",
    "            thisflip = \"H\"\n",
    "        else:\n",
    "            thisflip = \"T\"\n",
    "        \n",
    "        if lastflip == \"T\" and thisflip == \"H\":\n",
    "            result[\"TH\"] += 1\n",
    "            break\n",
    "        if lastflip == \"H\" and thisflip == \"H\":\n",
    "            result[\"HH\"] += 1\n",
    "            break\n",
    "        lastflip = thisflip\n",
    "\n",
    "print(str(result[\"HH\"]) + \" / \" + str(result[\"TH\"]))"
   ]
  }
 ],
 "metadata": {
  "kernelspec": {
   "display_name": "Python 3",
   "language": "python",
   "name": "python3"
  },
  "language_info": {
   "codemirror_mode": {
    "name": "ipython",
    "version": 3
   },
   "file_extension": ".py",
   "mimetype": "text/x-python",
   "name": "python",
   "nbconvert_exporter": "python",
   "pygments_lexer": "ipython3",
   "version": "3.10.9"
  },
  "orig_nbformat": 4
 },
 "nbformat": 4,
 "nbformat_minor": 2
}
