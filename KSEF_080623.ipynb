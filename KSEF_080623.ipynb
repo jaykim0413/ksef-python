{
 "cells": [
  {
   "cell_type": "code",
   "execution_count": 33,
   "metadata": {
    "ExecuteTime": {
     "end_time": "2023-09-16T12:48:28.988903Z",
     "start_time": "2023-09-16T12:48:28.982730Z"
    }
   },
   "outputs": [],
   "source": [
    "import numpy as np\n",
    "import pandas as pd\n",
    "import random"
   ]
  },
  {
   "cell_type": "code",
   "execution_count": 34,
   "metadata": {
    "ExecuteTime": {
     "end_time": "2023-09-16T12:48:28.995507Z",
     "start_time": "2023-09-16T12:48:28.990169Z"
    }
   },
   "outputs": [],
   "source": [
    "def index_app_num(a, num_of_characters, length_of_checklist):\n",
    "    N = 100\n",
    "    result = 0\n",
    "    for idx in range(N):\n",
    "        flips = np.zeros(length_of_checklist)\n",
    "        while True:\n",
    "            for j in range(length_of_checklist - 1):\n",
    "                flips[j] = flips[j + 1]\n",
    "            number = random.randint(1, num_of_characters)\n",
    "            flips[length_of_checklist - 1] = number\n",
    "            result += 1\n",
    "            if (flips == a).all():\n",
    "                break\n",
    "        print(result)\n",
    "    return result / N"
   ]
  },
  {
   "cell_type": "code",
   "execution_count": 35,
   "metadata": {
    "ExecuteTime": {
     "end_time": "2023-09-16T12:48:29.000752Z",
     "start_time": "2023-09-16T12:48:28.995035Z"
    }
   },
   "outputs": [],
   "source": [
    "def make_arrays(num_of_characters, length_of_checklist):\n",
    "    if length_of_checklist == 1:\n",
    "        record = []\n",
    "        for idx in range(num_of_characters):\n",
    "            record.append(np.array([idx + 1]))\n",
    "        return record\n",
    "    arrays = []\n",
    "    for idx in range(num_of_characters):\n",
    "        for array in make_arrays(num_of_characters, length_of_checklist - 1):\n",
    "            arrays.append(np.append(array, idx))\n",
    "    return arrays"
   ]
  },
  {
   "cell_type": "code",
   "execution_count": null,
   "outputs": [],
   "source": [
    "n = 4 # length of case\n",
    "m = 2 # number of characters\n",
    "arr = make_arrays(m, n)\n",
    "\n",
    "indexes = [np.array2string(i) for i in arr]\n",
    "\n",
    "df = pd.DataFrame(index = indexes).reset_index()\n",
    "df[\"num\"] = df.apply(lambda row: index_app_num(arr[row.name], m, n), axis = 1)\n",
    "\n",
    "df"
   ],
   "metadata": {
    "collapsed": false,
    "is_executing": true,
    "ExecuteTime": {
     "start_time": "2023-09-16T12:48:28.999247Z"
    }
   }
  },
  {
   "cell_type": "code",
   "execution_count": null,
   "metadata": {
    "is_executing": true
   },
   "outputs": [],
   "source": [
    "# N을 줄여서 다양한 m 과 n에 대해서 테스트 해보기"
   ]
  },
  {
   "cell_type": "code",
   "execution_count": null,
   "metadata": {
    "is_executing": true
   },
   "outputs": [],
   "source": [
    "with open(\"output_results/results2.txt\", \"a\") as function:\n",
    "    function.writelines(\"m : \" + str(m) + \"\\n\" + \"n : \" + str(n) + \"\\n\\n\")\n",
    "    for i in range(len(indexes)):\n",
    "        function.writelines(indexes[i] + \" : \" + str(df.loc[i, \"num\"]) + \"\\n\")\n",
    "    function.writelines(\"\\n--------------------\\n\\n\")"
   ]
  },
  {
   "cell_type": "code",
   "execution_count": null,
   "metadata": {
    "is_executing": true
   },
   "outputs": [],
   "source": [
    "df.sort_values(\"num\")"
   ]
  }
 ],
 "metadata": {
  "kernelspec": {
   "display_name": "base",
   "language": "python",
   "name": "python3"
  },
  "language_info": {
   "codemirror_mode": {
    "name": "ipython",
    "version": 3
   },
   "file_extension": ".py",
   "mimetype": "text/x-python",
   "name": "python",
   "nbconvert_exporter": "python",
   "pygments_lexer": "ipython3",
   "version": "3.10.9"
  },
  "orig_nbformat": 4
 },
 "nbformat": 4,
 "nbformat_minor": 2
}
