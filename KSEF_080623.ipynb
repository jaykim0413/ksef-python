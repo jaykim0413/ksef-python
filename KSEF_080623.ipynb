{
 "cells": [
  {
   "cell_type": "code",
   "execution_count": 11,
   "metadata": {
    "ExecuteTime": {
     "end_time": "2023-08-29T01:27:47.024130Z",
     "start_time": "2023-08-29T01:27:47.019871Z"
    }
   },
   "outputs": [],
   "source": [
    "import numpy as np\n",
    "import pandas as pd\n",
    "import random\n",
    "from tqdm import tqdm\n",
    "# import seaborn as sns"
   ]
  },
  {
   "cell_type": "code",
   "execution_count": 12,
   "metadata": {
    "ExecuteTime": {
     "end_time": "2023-08-29T01:27:47.029126Z",
     "start_time": "2023-08-29T01:27:47.025774Z"
    }
   },
   "outputs": [],
   "source": [
    "def index_win_ratio(a, b, num_of_characters, length_of_checklist):\n",
    "    N = 100_000\n",
    "\n",
    "    result = {\"first\": 0, \"second\": 0}\n",
    "\n",
    "    for idx in range(N):\n",
    "        # while loop for each heads and tails case\n",
    "        flips = np.zeros(length_of_checklist)\n",
    "        while True:\n",
    "            for j in range(length_of_checklist-1):\n",
    "                flips[j] = flips[j + 1]\n",
    "\n",
    "            number = random.randint(1, num_of_characters)\n",
    "            \n",
    "            flips[length_of_checklist - 1] = number\n",
    "        \n",
    "            if (flips == a).all():\n",
    "                result[\"first\"] += 1\n",
    "                break\n",
    "            if (flips == b).all():\n",
    "                result[\"second\"] += 1\n",
    "                break\n",
    "\n",
    "    return result[\"first\"] / (result[\"first\"] + result[\"second\"])"
   ]
  },
  {
   "cell_type": "code",
   "execution_count": 13,
   "metadata": {
    "ExecuteTime": {
     "end_time": "2023-08-29T01:27:47.033312Z",
     "start_time": "2023-08-29T01:27:47.030155Z"
    }
   },
   "outputs": [],
   "source": [
    "def index_app_num(a, num_of_characters, length_of_checklist):\n",
    "    N = 10_000\n",
    "\n",
    "    result = 0\n",
    "\n",
    "    for idx in range(N):\n",
    "\n",
    "        flips = np.zeros(length_of_checklist)\n",
    "\n",
    "        while True:\n",
    "            for j in range(length_of_checklist - 1):\n",
    "                flips[j] = flips[j + 1]\n",
    "\n",
    "            number = random.randint(1, num_of_characters)\n",
    "\n",
    "            flips[length_of_checklist - 1] = number\n",
    "\n",
    "            result += 1\n",
    "            \n",
    "            if (flips == a).all():\n",
    "                \n",
    "                break\n",
    "\n",
    "    return result / N"
   ]
  },
  {
   "cell_type": "code",
   "execution_count": 14,
   "metadata": {
    "ExecuteTime": {
     "end_time": "2023-08-29T01:27:47.043770Z",
     "start_time": "2023-08-29T01:27:47.035091Z"
    }
   },
   "outputs": [],
   "source": [
    "def make_arrays(num_of_characters, length_of_checklist):\n",
    "    if length_of_checklist == 1:\n",
    "        record = []\n",
    "\n",
    "        for idx in range(num_of_characters):\n",
    "            record.append(np.array([idx + 1]))\n",
    "\n",
    "        return record\n",
    "    \n",
    "    arrays = []\n",
    "    for idx in range(num_of_characters):\n",
    "        for array in make_arrays(num_of_characters + 1, length_of_checklist - 1):\n",
    "            arrays.append(np.append(array, idx))\n",
    "\n",
    "    return arrays"
   ]
  },
  {
   "cell_type": "code",
   "execution_count": null,
   "outputs": [],
   "source": [
    "n = 2 # length of case\n",
    "m = 2 # number of characters\n",
    "arr = make_arrays(m, n)\n",
    "\n",
    "indexes = []\n",
    "\n",
    "for i in arr:\n",
    "    indexes.append(np.array2string(i))\n",
    "\n",
    "df = pd.DataFrame(index = indexes, columns=[\"num\"])\n",
    "\n",
    "# df[\"num\"] = df.apply(lambda row: index_app_num(arr[row.name], m, n), axis = 1)\n",
    "\n",
    "for element in tqdm(arr):\n",
    "    df.loc[np.array2string(element), \"num\"] = index_app_num(element, m, n)\n",
    "\n",
    "df"
   ],
   "metadata": {
    "collapsed": false,
    "ExecuteTime": {
     "start_time": "2023-08-29T01:27:56.758660Z"
    }
   }
  },
  {
   "cell_type": "code",
   "execution_count": null,
   "metadata": {
    "ExecuteTime": {
     "start_time": "2023-08-29T01:27:56.754525Z"
    }
   },
   "outputs": [],
   "source": [
    "# N을 줄여서 다양한 m 과 n에 대해서 테스트 해보기"
   ]
  },
  {
   "cell_type": "code",
   "execution_count": null,
   "metadata": {
    "ExecuteTime": {
     "end_time": "2023-08-29T01:27:56.758228Z",
     "start_time": "2023-08-29T01:27:56.756283Z"
    }
   },
   "outputs": [],
   "source": [
    "with open(\"results2.txt\", \"a\") as function:\n",
    "    function.writelines(\"m : \" + str(m) + \"\\n\" + \"n : \" + str(n) + \"\\n\\n\")\n",
    "    for i in range(len(indexes)):\n",
    "        function.writelines(indexes[i] + \" : \" + str(df.loc[i, \"num\"]) + \"\\n\")\n",
    "    function.writelines(\"\\n--------------------\\n\\n\")"
   ]
  },
  {
   "cell_type": "code",
   "execution_count": null,
   "metadata": {
    "ExecuteTime": {
     "start_time": "2023-08-29T01:27:56.757671Z"
    }
   },
   "outputs": [],
   "source": [
    "df.sort_values(\"num\")"
   ]
  }
 ],
 "metadata": {
  "kernelspec": {
   "display_name": "base",
   "language": "python",
   "name": "python3"
  },
  "language_info": {
   "codemirror_mode": {
    "name": "ipython",
    "version": 3
   },
   "file_extension": ".py",
   "mimetype": "text/x-python",
   "name": "python",
   "nbconvert_exporter": "python",
   "pygments_lexer": "ipython3",
   "version": "3.10.9"
  },
  "orig_nbformat": 4
 },
 "nbformat": 4,
 "nbformat_minor": 2
}
