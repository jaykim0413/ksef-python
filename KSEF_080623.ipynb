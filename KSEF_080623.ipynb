{
 "cells": [
  {
   "cell_type": "code",
   "execution_count": 1,
   "metadata": {},
   "outputs": [],
   "source": [
    "import numpy as np\n",
    "import pandas as pd\n",
    "import random\n",
    "from tqdm import tqdm\n",
    "# import seaborn as sns"
   ]
  },
  {
   "cell_type": "code",
   "execution_count": null,
   "metadata": {},
   "outputs": [],
   "source": [
    "def index_win_ratio(a, b, m, n):\n",
    "    N = 100_000\n",
    "\n",
    "    result = {\"first\": 0, \"second\": 0}\n",
    "\n",
    "    for i in range(N):\n",
    "        # while loop for each heads and tails case\n",
    "        flips = np.zeros(n)\n",
    "        while True:\n",
    "            for j in range(1, n):\n",
    "                flips[j - 1] = flips[j]\n",
    "\n",
    "            number = random.randint(1, m)\n",
    "            \n",
    "            flips[n - 1] = number\n",
    "        \n",
    "            if (flips == a).all():\n",
    "                result[\"first\"] += 1\n",
    "                break\n",
    "            if (flips == b).all():\n",
    "                result[\"second\"] += 1\n",
    "                break\n",
    "\n",
    "    return result[\"first\"] / (result[\"first\"] + result[\"second\"])"
   ]
  },
  {
   "cell_type": "code",
   "execution_count": 2,
   "metadata": {},
   "outputs": [],
   "source": [
    "def index_app_num(a, m, n):\n",
    "    N = 100_000\n",
    "\n",
    "    result = 0\n",
    "\n",
    "    for i in range(N):\n",
    "\n",
    "        flips = np.zeros(n)\n",
    "\n",
    "        while True:\n",
    "            for j in range(1, n):\n",
    "                flips[j - 1] = flips[j]\n",
    "\n",
    "            number = random.randint(1, m)\n",
    "\n",
    "            flips[n - 1] = number\n",
    "\n",
    "            result += 1\n",
    "            \n",
    "            if (flips == a).all():\n",
    "                \n",
    "                break\n",
    "\n",
    "    return result / N"
   ]
  },
  {
   "cell_type": "code",
   "execution_count": 5,
   "metadata": {},
   "outputs": [
    {
     "data": {
      "text/plain": [
       "4.00091"
      ]
     },
     "execution_count": 5,
     "metadata": {},
     "output_type": "execute_result"
    }
   ],
   "source": [
    "# index_app_num(np.array([1, 2]), 2, 2)"
   ]
  },
  {
   "cell_type": "code",
   "execution_count": 3,
   "metadata": {},
   "outputs": [],
   "source": [
    "def make_arrays(m, n):\n",
    "    if n == 1:\n",
    "        arr = []\n",
    "\n",
    "        for i in range(1, m + 1):\n",
    "            arr.append(np.array([i]))\n",
    "\n",
    "        return arr\n",
    "    \n",
    "    arrays = []\n",
    "    for i in range(1, m + 1):\n",
    "        for array in make_arrays(m, n - 1):\n",
    "            arrays.append(np.append(array, i))\n",
    "\n",
    "    return arrays"
   ]
  },
  {
   "cell_type": "code",
   "execution_count": null,
   "metadata": {},
   "outputs": [],
   "source": [
    "n = 4 # length of case\n",
    "m = 3 # number of characters\n",
    "arr = make_arrays(m, n)\n",
    "\n",
    "indexes = []\n",
    "\n",
    "for i in arr:\n",
    "    indexes.append(np.array2string(i))\n",
    "\n",
    "dataframe = pd.DataFrame(index = indexes, columns = \"num\")\n",
    "\n",
    "for a in tqdm(arr):\n",
    "    dataframe.loc[np.array2string(a), \"num\"] = index_app_num(a, m, n)\n",
    "\n",
    "dataframe"
   ]
  }
 ],
 "metadata": {
  "kernelspec": {
   "display_name": "base",
   "language": "python",
   "name": "python3"
  },
  "language_info": {
   "codemirror_mode": {
    "name": "ipython",
    "version": 3
   },
   "file_extension": ".py",
   "mimetype": "text/x-python",
   "name": "python",
   "nbconvert_exporter": "python",
   "pygments_lexer": "ipython3",
   "version": "3.10.9"
  },
  "orig_nbformat": 4
 },
 "nbformat": 4,
 "nbformat_minor": 2
}
