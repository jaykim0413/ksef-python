{
 "cells": [
  {
   "cell_type": "code",
   "execution_count": 1,
   "metadata": {
    "ExecuteTime": {
     "end_time": "2023-08-09T03:29:42.980452Z",
     "start_time": "2023-08-09T03:29:42.605878Z"
    }
   },
   "outputs": [],
   "source": [
    "import numpy as np\n",
    "import pandas as pd\n",
    "import random\n",
    "# import seaborn as sns"
   ]
  },
  {
   "cell_type": "code",
   "execution_count": 2,
   "metadata": {
    "ExecuteTime": {
     "end_time": "2023-08-09T03:29:42.989329Z",
     "start_time": "2023-08-09T03:29:42.983377Z"
    }
   },
   "outputs": [],
   "source": [
    "def index_win_ratio(a, b, m, n):\n",
    "    N = 100_000\n",
    "\n",
    "    result = {\"first\": 0, \"second\": 0}\n",
    "\n",
    "    for i in range(N):\n",
    "        # while loop for each heads and tails case\n",
    "        flips = np.zeros(n)\n",
    "        while True:\n",
    "            for j in range(1, n):\n",
    "                flips[j - 1] = flips[j]\n",
    "\n",
    "            number = random.randint(1, m)\n",
    "            \n",
    "            flips[n - 1] = number\n",
    "        \n",
    "            if (flips == a).all():\n",
    "                result[\"first\"] += 1\n",
    "                break\n",
    "            if (flips == b).all():\n",
    "                result[\"second\"] += 1\n",
    "                break\n",
    "\n",
    "    return result[\"first\"] / (result[\"first\"] + result[\"second\"])"
   ]
  },
  {
   "cell_type": "code",
   "execution_count": 3,
   "metadata": {
    "ExecuteTime": {
     "end_time": "2023-08-09T03:29:42.999369Z",
     "start_time": "2023-08-09T03:29:42.987786Z"
    }
   },
   "outputs": [],
   "source": [
    "def index_app_num(a, m, n):\n",
    "    N = 100_000\n",
    "\n",
    "    result = 0\n",
    "\n",
    "    for i in range(N):\n",
    "\n",
    "        flips = np.zeros(n)\n",
    "\n",
    "        while True:\n",
    "            for j in range(1, n):\n",
    "                flips[j - 1] = flips[j]\n",
    "\n",
    "            number = random.randint(1, m)\n",
    "\n",
    "            flips[n - 1] = number\n",
    "\n",
    "            result += 1\n",
    "            \n",
    "            if (flips == a).all():\n",
    "                \n",
    "                break\n",
    "\n",
    "    return result / N"
   ]
  },
  {
   "cell_type": "code",
   "execution_count": 4,
   "metadata": {
    "ExecuteTime": {
     "end_time": "2023-08-09T03:29:42.999740Z",
     "start_time": "2023-08-09T03:29:42.992834Z"
    }
   },
   "outputs": [],
   "source": [
    "def make_arrays(m, n):\n",
    "    if n == 1:\n",
    "        arr = []\n",
    "\n",
    "        for i in range(1, m + 1):\n",
    "            arr.append(np.array([i]))\n",
    "\n",
    "        return arr\n",
    "    \n",
    "    arrays = []\n",
    "    for i in range(1, m + 1):\n",
    "        for array in make_arrays(m, n - 1):\n",
    "            arrays.append(np.append(array, i))\n",
    "\n",
    "    return arrays"
   ]
  },
  {
   "cell_type": "code",
   "execution_count": 5,
   "metadata": {
    "ExecuteTime": {
     "end_time": "2023-08-09T03:49:38.955657Z",
     "start_time": "2023-08-09T03:29:42.997886Z"
    }
   },
   "outputs": [
    {
     "data": {
      "text/plain": "            index        num\n0   [1 1 1 1 1 1]  125.96271\n1   [2 1 1 1 1 1]   63.73249\n2   [1 2 1 1 1 1]   65.71875\n3   [2 2 1 1 1 1]   63.63219\n4   [1 1 2 1 1 1]   70.27123\n..            ...        ...\n59  [2 2 1 2 2 2]   69.76218\n60  [1 1 2 2 2 2]   64.07398\n61  [2 1 2 2 2 2]   66.11306\n62  [1 2 2 2 2 2]   64.28725\n63  [2 2 2 2 2 2]  125.76761\n\n[64 rows x 2 columns]",
      "text/html": "<div>\n<style scoped>\n    .dataframe tbody tr th:only-of-type {\n        vertical-align: middle;\n    }\n\n    .dataframe tbody tr th {\n        vertical-align: top;\n    }\n\n    .dataframe thead th {\n        text-align: right;\n    }\n</style>\n<table border=\"1\" class=\"dataframe\">\n  <thead>\n    <tr style=\"text-align: right;\">\n      <th></th>\n      <th>index</th>\n      <th>num</th>\n    </tr>\n  </thead>\n  <tbody>\n    <tr>\n      <th>0</th>\n      <td>[1 1 1 1 1 1]</td>\n      <td>125.96271</td>\n    </tr>\n    <tr>\n      <th>1</th>\n      <td>[2 1 1 1 1 1]</td>\n      <td>63.73249</td>\n    </tr>\n    <tr>\n      <th>2</th>\n      <td>[1 2 1 1 1 1]</td>\n      <td>65.71875</td>\n    </tr>\n    <tr>\n      <th>3</th>\n      <td>[2 2 1 1 1 1]</td>\n      <td>63.63219</td>\n    </tr>\n    <tr>\n      <th>4</th>\n      <td>[1 1 2 1 1 1]</td>\n      <td>70.27123</td>\n    </tr>\n    <tr>\n      <th>...</th>\n      <td>...</td>\n      <td>...</td>\n    </tr>\n    <tr>\n      <th>59</th>\n      <td>[2 2 1 2 2 2]</td>\n      <td>69.76218</td>\n    </tr>\n    <tr>\n      <th>60</th>\n      <td>[1 1 2 2 2 2]</td>\n      <td>64.07398</td>\n    </tr>\n    <tr>\n      <th>61</th>\n      <td>[2 1 2 2 2 2]</td>\n      <td>66.11306</td>\n    </tr>\n    <tr>\n      <th>62</th>\n      <td>[1 2 2 2 2 2]</td>\n      <td>64.28725</td>\n    </tr>\n    <tr>\n      <th>63</th>\n      <td>[2 2 2 2 2 2]</td>\n      <td>125.76761</td>\n    </tr>\n  </tbody>\n</table>\n<p>64 rows × 2 columns</p>\n</div>"
     },
     "execution_count": 5,
     "metadata": {},
     "output_type": "execute_result"
    }
   ],
   "source": [
    "n = 6 # length of case\n",
    "m = 2 # number of characters\n",
    "arr = make_arrays(m, n)\n",
    "\n",
    "indexes = []\n",
    "\n",
    "for i in arr:\n",
    "    indexes.append(np.array2string(i))\n",
    "\n",
    "df = pd.DataFrame(index = indexes).reset_index()\n",
    "\n",
    "df[\"num\"] = df.apply(lambda row: index_app_num(arr[row.name], m, n), axis = 1)\n",
    "\n",
    "# for a in tqdm(arr):\n",
    "#     df.loc[np.array2string(a), \"num\"] = index_app_num(a, m, n)\n",
    "\n",
    "df"
   ]
  },
  {
   "cell_type": "code",
   "execution_count": 6,
   "metadata": {
    "ExecuteTime": {
     "end_time": "2023-08-09T03:49:38.986948Z",
     "start_time": "2023-08-09T03:49:38.951640Z"
    }
   },
   "outputs": [],
   "source": [
    "# N을 줄여서 다양한 m 과 n에 대해서 테스트 해보기"
   ]
  },
  {
   "cell_type": "code",
   "execution_count": 7,
   "metadata": {
    "ExecuteTime": {
     "end_time": "2023-08-09T03:49:38.987552Z",
     "start_time": "2023-08-09T03:49:38.952082Z"
    }
   },
   "outputs": [],
   "source": [
    "with open(\"results2.txt\", \"a\") as function:\n",
    "    function.writelines(\"m : \" + str(m) + \"\\n\" + \"n : \" + str(n) + \"\\n\\n\")\n",
    "    for i in range(0, len(indexes)):\n",
    "        function.writelines(indexes[i] + \" : \" + str(df.loc[i, \"num\"]) + \"\\n\")\n",
    "    function.writelines(\"\\n--------------------\\n\\n\")"
   ]
  },
  {
   "cell_type": "code",
   "execution_count": 8,
   "metadata": {
    "ExecuteTime": {
     "end_time": "2023-08-09T03:49:39.039982Z",
     "start_time": "2023-08-09T03:49:38.985589Z"
    }
   },
   "outputs": [
    {
     "data": {
      "text/plain": "            index        num\n3   [2 2 1 1 1 1]   63.63219\n7   [2 2 2 1 1 1]   63.63465\n23  [2 2 2 1 2 1]   63.70281\n1   [2 1 1 1 1 1]   63.73249\n13  [2 1 2 2 1 1]   63.75347\n..            ...        ...\n45  [2 1 2 2 1 2]   74.22342\n21  [2 1 2 1 2 1]   84.02548\n42  [1 2 1 2 1 2]   84.03844\n63  [2 2 2 2 2 2]  125.76761\n0   [1 1 1 1 1 1]  125.96271\n\n[64 rows x 2 columns]",
      "text/html": "<div>\n<style scoped>\n    .dataframe tbody tr th:only-of-type {\n        vertical-align: middle;\n    }\n\n    .dataframe tbody tr th {\n        vertical-align: top;\n    }\n\n    .dataframe thead th {\n        text-align: right;\n    }\n</style>\n<table border=\"1\" class=\"dataframe\">\n  <thead>\n    <tr style=\"text-align: right;\">\n      <th></th>\n      <th>index</th>\n      <th>num</th>\n    </tr>\n  </thead>\n  <tbody>\n    <tr>\n      <th>3</th>\n      <td>[2 2 1 1 1 1]</td>\n      <td>63.63219</td>\n    </tr>\n    <tr>\n      <th>7</th>\n      <td>[2 2 2 1 1 1]</td>\n      <td>63.63465</td>\n    </tr>\n    <tr>\n      <th>23</th>\n      <td>[2 2 2 1 2 1]</td>\n      <td>63.70281</td>\n    </tr>\n    <tr>\n      <th>1</th>\n      <td>[2 1 1 1 1 1]</td>\n      <td>63.73249</td>\n    </tr>\n    <tr>\n      <th>13</th>\n      <td>[2 1 2 2 1 1]</td>\n      <td>63.75347</td>\n    </tr>\n    <tr>\n      <th>...</th>\n      <td>...</td>\n      <td>...</td>\n    </tr>\n    <tr>\n      <th>45</th>\n      <td>[2 1 2 2 1 2]</td>\n      <td>74.22342</td>\n    </tr>\n    <tr>\n      <th>21</th>\n      <td>[2 1 2 1 2 1]</td>\n      <td>84.02548</td>\n    </tr>\n    <tr>\n      <th>42</th>\n      <td>[1 2 1 2 1 2]</td>\n      <td>84.03844</td>\n    </tr>\n    <tr>\n      <th>63</th>\n      <td>[2 2 2 2 2 2]</td>\n      <td>125.76761</td>\n    </tr>\n    <tr>\n      <th>0</th>\n      <td>[1 1 1 1 1 1]</td>\n      <td>125.96271</td>\n    </tr>\n  </tbody>\n</table>\n<p>64 rows × 2 columns</p>\n</div>"
     },
     "execution_count": 8,
     "metadata": {},
     "output_type": "execute_result"
    }
   ],
   "source": [
    "df.sort_values(\"num\")"
   ]
  }
 ],
 "metadata": {
  "kernelspec": {
   "display_name": "base",
   "language": "python",
   "name": "python3"
  },
  "language_info": {
   "codemirror_mode": {
    "name": "ipython",
    "version": 3
   },
   "file_extension": ".py",
   "mimetype": "text/x-python",
   "name": "python",
   "nbconvert_exporter": "python",
   "pygments_lexer": "ipython3",
   "version": "3.10.9"
  },
  "orig_nbformat": 4
 },
 "nbformat": 4,
 "nbformat_minor": 2
}
