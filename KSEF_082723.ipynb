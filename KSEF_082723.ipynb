{
 "cells": [
  {
   "cell_type": "markdown",
   "source": [
    "# Markov Chain"
   ],
   "metadata": {
    "collapsed": false
   },
   "id": "b5afd048f0b8a88c"
  },
  {
   "cell_type": "code",
   "execution_count": 1,
   "outputs": [],
   "source": [
    "import numpy as np\n",
    "import copy"
   ],
   "metadata": {
    "collapsed": false,
    "ExecuteTime": {
     "end_time": "2023-08-28T13:20:37.272669Z",
     "start_time": "2023-08-28T13:20:37.223204Z"
    }
   },
   "id": "ce118ae188c83b6e"
  },
  {
   "cell_type": "code",
   "execution_count": 2,
   "outputs": [],
   "source": [],
   "metadata": {
    "collapsed": false
   },
   "id": "781925c24429ed6e"
  }
 ],
 "metadata": {
  "kernelspec": {
   "display_name": "Python 3",
   "language": "python",
   "name": "python3"
  },
  "language_info": {
   "codemirror_mode": {
    "name": "ipython",
    "version": 2
   },
   "file_extension": ".py",
   "mimetype": "text/x-python",
   "name": "python",
   "nbconvert_exporter": "python",
   "pygments_lexer": "ipython2",
   "version": "2.7.6"
  }
 },
 "nbformat": 4,
 "nbformat_minor": 5
}
