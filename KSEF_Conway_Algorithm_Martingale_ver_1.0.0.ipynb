{
 "cells": [
  {
   "cell_type": "markdown",
   "source": [
    "# Conway's Algorithm in Python through the Martingale Strategy"
   ],
   "metadata": {
    "collapsed": false
   },
   "id": "eb74c750d9376bdc"
  },
  {
   "cell_type": "markdown",
   "source": [
    "## Imports"
   ],
   "metadata": {
    "collapsed": false
   },
   "id": "3261674785117e83"
  },
  {
   "cell_type": "code",
   "execution_count": 10,
   "outputs": [],
   "source": [
    "import math\n",
    "import numpy as np\n",
    "import pandas as pd\n",
    "import itertools"
   ],
   "metadata": {
    "collapsed": false,
    "ExecuteTime": {
     "end_time": "2023-11-07T01:07:01.216236Z",
     "start_time": "2023-11-07T01:07:01.203741Z"
    }
   },
   "id": "dfc53eaac08a3820"
  },
  {
   "cell_type": "markdown",
   "source": [
    "## Functions"
   ],
   "metadata": {
    "collapsed": false
   },
   "id": "5f756f61f7932bd0"
  },
  {
   "cell_type": "code",
   "execution_count": 11,
   "outputs": [],
   "source": [
    "def create_cases(num_of_chars: int, length_of_case: int) -> list[np.ndarray]:\n",
    "    \"\"\"\n",
    "    Function to create all possible case combinations for when the number of characters available is equal to num_of_chars and the length of the cases is equal to length_of_case.\n",
    "    \n",
    "    :param num_of_chars: The maximum number of distinct characters that can be used to create each case.\n",
    "    :param length_of_case: The length of all cases\n",
    "    :return: A list containing each combination in the form of numpy© arrays.\n",
    "    \"\"\"\n",
    "    return [np.array(i) for i in itertools.product(range(num_of_chars), repeat=length_of_case)]"
   ],
   "metadata": {
    "collapsed": false,
    "ExecuteTime": {
     "end_time": "2023-11-07T01:07:01.218357Z",
     "start_time": "2023-11-07T01:07:01.208766Z"
    }
   },
   "id": "26f91b144fddb7e7"
  },
  {
   "cell_type": "code",
   "execution_count": 12,
   "outputs": [],
   "source": [
    "def gcd_euclid(a: float, b: float):\n",
    "    while not b == 0:\n",
    "        a, b = b, a % b\n",
    "        \n",
    "    return a"
   ],
   "metadata": {
    "collapsed": false,
    "ExecuteTime": {
     "end_time": "2023-11-07T01:07:01.233802Z",
     "start_time": "2023-11-07T01:07:01.212182Z"
    }
   },
   "id": "a6ec40999cf9459e"
  },
  {
   "cell_type": "code",
   "execution_count": 13,
   "outputs": [],
   "source": [
    "def conways_function(standard: np.ndarray, comparer: np.ndarray, number_of_characters: int, length_of_cases: int) -> int:\n",
    "    \"\"\"\n",
    "    Function that uses the Martingale Strategy to compute the value of (number_of_characters)-base string comparisons used in Conway's Algorithm\n",
    "    \n",
    "    :param standard: The (number_of_characters)-base string that is compared to\n",
    "    :param comparer: The (number_of_characters)-base string that is being compared\n",
    "    :param number_of_characters: The maximum number of distinct characters that can be used in each case.\n",
    "    :param length_of_cases: The length of all cases\n",
    "    :return: The value of binary string comparison between the standard and comparer (number_of_characters)-base combination\n",
    "    \"\"\"\n",
    "    result = 0\n",
    "    for i in range(length_of_cases):\n",
    "        test = comparer[i:]\n",
    "        power = 0\n",
    "        for j in range(length_of_cases - (i + 1), -1, -1):\n",
    "            if test[j] == standard[j]:\n",
    "                power += 1\n",
    "            else:\n",
    "                break\n",
    "        \n",
    "        if power != 0:\n",
    "            result += math.pow(number_of_characters, power)\n",
    "    \n",
    "    # print(result, end=\"\\t\")\n",
    "    return result"
   ],
   "metadata": {
    "collapsed": false,
    "ExecuteTime": {
     "end_time": "2023-11-07T01:07:01.235259Z",
     "start_time": "2023-11-07T01:07:01.217696Z"
    }
   },
   "id": "61f6136525636d17"
  },
  {
   "cell_type": "code",
   "execution_count": 14,
   "outputs": [],
   "source": [
    "def relative_win_probability(standard: np.ndarray, comparer: np.ndarray, num_of_char: int, len_of_case: int) -> tuple[int, int]:\n",
    "    \"\"\"\n",
    "    Calculates, according to Conway's Algorithm, the relative chance the player with the standard (num_of_char)-base string (player A) beats the player with the comparer (num_of_char)-base string (player B).\n",
    "    \n",
    "    :param standard: The (number_of_characters)-base string that is compared to.\n",
    "    :param comparer: The (number_of_characters)-base string that is being compared.\n",
    "    :param num_of_char: The maximum number of distinct characters that can be used in each case.\n",
    "    :param len_of_case: The length of all cases.\n",
    "    :return: The relative chance for player A to win over player B, or P(A win) / P(B win).\n",
    "    \"\"\"\n",
    "    dividend = conways_function(comparer, comparer, num_of_char, len_of_case) - conways_function(comparer, standard, num_of_char, len_of_case)\n",
    "    divisor = conways_function(standard, standard, num_of_char, len_of_case) - conways_function(standard, comparer, num_of_char, len_of_case)\n",
    "    \n",
    "    # print(dividend, \"/\", divisor)\n",
    "    return dividend, divisor"
   ],
   "metadata": {
    "collapsed": false,
    "ExecuteTime": {
     "end_time": "2023-11-07T01:07:01.235606Z",
     "start_time": "2023-11-07T01:07:01.220732Z"
    }
   },
   "id": "b8d0c23922276d6e"
  },
  {
   "cell_type": "code",
   "execution_count": 15,
   "outputs": [],
   "source": [
    "def win_probability(number_of_characters: int, length_of_case: int) -> pd.DataFrame:\n",
    "    \"\"\"\n",
    "    Calculates the win probability of player A's case over player B's case in the form of a data frame with each case for the indexes and columns\n",
    "    \n",
    "    :param number_of_characters: The maximum number of distinct characters that can be used in each case.\n",
    "    :param length_of_case: The length of all cases.\n",
    "    :return: A dataframe containing the probabilities to win \n",
    "    \"\"\"\n",
    "    cases = create_cases(num_of_chars=number_of_characters, length_of_case=length_of_case)\n",
    "    indexes = []\n",
    "    for case in cases:\n",
    "        indexes.append(np.array2string(case))\n",
    "    \n",
    "    df = pd.DataFrame(columns=indexes, index=indexes)\n",
    "    \n",
    "    for case in cases:\n",
    "        df.loc[np.array2string(case), np.array2string(case)] = 1.0\n",
    "    \n",
    "    for i in range(len(cases)):\n",
    "        for j in range(i + 1, len(cases)):\n",
    "            ratio = relative_win_probability(standard=cases[i], comparer=cases[j], num_of_char=number_of_characters, len_of_case=length_of_case)\n",
    "            minimizer = gcd_euclid(ratio[0], ratio[1])\n",
    "            \n",
    "            df.loc[np.array2string(cases[i]), np.array2string(cases[j])] = round(ratio[0] / (ratio[0] + ratio[1]) * 1000) / 1000\n",
    "            # (ratio[0] // minimizer, (ratio[0] + ratio[1]) // minimizer)\n",
    "            # ratio[0] / (ratio[0] + ratio[1])\n",
    "            df.loc[np.array2string(cases[j]), np.array2string(cases[i])] = round(ratio[1] / (ratio[0] + ratio[1]) * 1000) / 1000\n",
    "            # (ratio[1] // minimizer, (ratio[0] + ratio[1]) // minimizer)\n",
    "            # ratio[1] / (ratio[0] + ratio[1])\n",
    "            \n",
    "    return df"
   ],
   "metadata": {
    "collapsed": false,
    "ExecuteTime": {
     "end_time": "2023-11-07T01:07:01.235757Z",
     "start_time": "2023-11-07T01:07:01.225820Z"
    }
   },
   "id": "6797cb5fb78e6ae4"
  },
  {
   "cell_type": "code",
   "execution_count": 16,
   "outputs": [],
   "source": [
    "def record_on_csv(probability_chart: pd.DataFrame, num_of_chars: int, len_of_cases: int) -> bool:\n",
    "    try:\n",
    "        probability_chart.to_csv(f'./conway_algorithm_results/win_prob_chart_{num_of_chars}_{len_of_cases}.csv')\n",
    "        return True\n",
    "    except FileNotFoundError:\n",
    "        return False"
   ],
   "metadata": {
    "collapsed": false,
    "ExecuteTime": {
     "end_time": "2023-11-07T01:07:01.236466Z",
     "start_time": "2023-11-07T01:07:01.228366Z"
    }
   },
   "id": "81546300da0cc90"
  },
  {
   "cell_type": "markdown",
   "source": [
    "## Execute / Main"
   ],
   "metadata": {
    "collapsed": false
   },
   "id": "4e63cfb10652726f"
  },
  {
   "cell_type": "code",
   "execution_count": 17,
   "outputs": [],
   "source": [
    "def main():\n",
    "    m = int(input(\"Input the number of characters to use: \"))\n",
    "    n = int(input(\"Input the length of case to use: \"))\n",
    "    win_probability_chart = win_probability(number_of_characters=m, length_of_case=n)\n",
    "    \n",
    "    print(\"Win Probability Chart: \", end=\"\\n\\n\")\n",
    "    print(win_probability_chart)\n",
    "    \n",
    "    record_on_csv(probability_chart=win_probability_chart, num_of_chars=m, len_of_cases=n)"
   ],
   "metadata": {
    "collapsed": false,
    "ExecuteTime": {
     "end_time": "2023-11-07T01:07:01.237194Z",
     "start_time": "2023-11-07T01:07:01.231356Z"
    }
   },
   "id": "e68370aa578c970"
  },
  {
   "cell_type": "code",
   "execution_count": 18,
   "outputs": [
    {
     "name": "stdout",
     "output_type": "stream",
     "text": [
      "Win Probability Chart: \n",
      "\n",
      "                [0 0 0 0 0 0 0] [0 0 0 0 0 0 1] [0 0 0 0 0 1 0]  \\\n",
      "[0 0 0 0 0 0 0]             1.0           0.008           0.236   \n",
      "[0 0 0 0 0 0 1]           0.992             1.0           0.389   \n",
      "[0 0 0 0 0 1 0]           0.764           0.611             1.0   \n",
      "[0 0 0 0 0 1 1]           0.789           0.663           0.531   \n",
      "[0 0 0 0 1 0 0]           0.679           0.486           0.628   \n",
      "...                         ...             ...             ...   \n",
      "[1 1 1 1 0 1 1]           0.641           0.492           0.493   \n",
      "[1 1 1 1 1 0 0]           0.648           0.469           0.488   \n",
      "[1 1 1 1 1 0 1]           0.651             0.5             0.5   \n",
      "[1 1 1 1 1 1 0]           0.656             0.5             0.5   \n",
      "[1 1 1 1 1 1 1]             0.5           0.344           0.349   \n",
      "\n",
      "                [0 0 0 0 0 1 1] [0 0 0 0 1 0 0] [0 0 0 0 1 0 1]  \\\n",
      "[0 0 0 0 0 0 0]           0.211           0.321           0.282   \n",
      "[0 0 0 0 0 0 1]           0.337           0.514           0.436   \n",
      "[0 0 0 0 0 1 0]           0.469           0.372           0.309   \n",
      "[0 0 0 0 0 1 1]             1.0           0.559           0.508   \n",
      "[0 0 0 0 1 0 0]           0.441             1.0           0.453   \n",
      "...                         ...             ...             ...   \n",
      "[1 1 1 1 0 1 1]             0.5             0.5           0.504   \n",
      "[1 1 1 1 1 0 0]             0.5             0.5           0.492   \n",
      "[1 1 1 1 1 0 1]           0.512           0.507             0.5   \n",
      "[1 1 1 1 1 1 0]           0.531           0.508           0.508   \n",
      "[1 1 1 1 1 1 1]           0.352           0.359           0.348   \n",
      "\n",
      "                [0 0 0 0 1 1 0] [0 0 0 0 1 1 1] [0 0 0 1 0 0 0]  \\\n",
      "[0 0 0 0 0 0 0]           0.302           0.291           0.366   \n",
      "[0 0 0 0 0 0 1]           0.468           0.438           0.595   \n",
      "[0 0 0 0 0 1 0]             0.5           0.481             0.5   \n",
      "[0 0 0 0 0 1 1]           0.368            0.34           0.593   \n",
      "[0 0 0 0 1 0 0]            0.48           0.458            0.37   \n",
      "...                         ...             ...             ...   \n",
      "[1 1 1 1 0 1 1]           0.481           0.508           0.507   \n",
      "[1 1 1 1 1 0 0]             0.5           0.545             0.5   \n",
      "[1 1 1 1 1 0 1]             0.5           0.543           0.514   \n",
      "[1 1 1 1 1 1 0]             0.5           0.583           0.515   \n",
      "[1 1 1 1 1 1 1]           0.339           0.366           0.365   \n",
      "\n",
      "                [0 0 0 1 0 0 1]  ... [1 1 1 0 1 1 0] [1 1 1 0 1 1 1]  \\\n",
      "[0 0 0 0 0 0 0]           0.314  ...           0.355           0.365   \n",
      "[0 0 0 0 0 0 1]           0.483  ...           0.517           0.515   \n",
      "[0 0 0 0 0 1 0]           0.425  ...           0.508           0.514   \n",
      "[0 0 0 0 0 1 1]           0.524  ...           0.492             0.5   \n",
      "[0 0 0 0 1 0 0]           0.306  ...           0.504           0.507   \n",
      "...                         ...  ...             ...             ...   \n",
      "[1 1 1 1 0 1 1]           0.504  ...           0.306            0.37   \n",
      "[1 1 1 1 1 0 0]           0.492  ...           0.524           0.593   \n",
      "[1 1 1 1 1 0 1]           0.508  ...           0.425             0.5   \n",
      "[1 1 1 1 1 1 0]           0.517  ...           0.483           0.595   \n",
      "[1 1 1 1 1 1 1]           0.355  ...           0.314           0.366   \n",
      "\n",
      "                [1 1 1 1 0 0 0] [1 1 1 1 0 0 1] [1 1 1 1 0 1 0]  \\\n",
      "[0 0 0 0 0 0 0]           0.366           0.339           0.348   \n",
      "[0 0 0 0 0 0 1]           0.583             0.5           0.508   \n",
      "[0 0 0 0 0 1 0]           0.543             0.5             0.5   \n",
      "[0 0 0 0 0 1 1]           0.545             0.5           0.492   \n",
      "[0 0 0 0 1 0 0]           0.508           0.481           0.504   \n",
      "...                         ...             ...             ...   \n",
      "[1 1 1 1 0 1 1]           0.458            0.48           0.453   \n",
      "[1 1 1 1 1 0 0]            0.34           0.368           0.508   \n",
      "[1 1 1 1 1 0 1]           0.481             0.5           0.309   \n",
      "[1 1 1 1 1 1 0]           0.438           0.468           0.436   \n",
      "[1 1 1 1 1 1 1]           0.291           0.302           0.282   \n",
      "\n",
      "                [1 1 1 1 0 1 1] [1 1 1 1 1 0 0] [1 1 1 1 1 0 1]  \\\n",
      "[0 0 0 0 0 0 0]           0.359           0.352           0.349   \n",
      "[0 0 0 0 0 0 1]           0.508           0.531             0.5   \n",
      "[0 0 0 0 0 1 0]           0.507           0.512             0.5   \n",
      "[0 0 0 0 0 1 1]             0.5             0.5           0.488   \n",
      "[0 0 0 0 1 0 0]             0.5             0.5           0.493   \n",
      "...                         ...             ...             ...   \n",
      "[1 1 1 1 0 1 1]             1.0           0.441           0.628   \n",
      "[1 1 1 1 1 0 0]           0.559             1.0           0.531   \n",
      "[1 1 1 1 1 0 1]           0.372           0.469             1.0   \n",
      "[1 1 1 1 1 1 0]           0.514           0.337           0.389   \n",
      "[1 1 1 1 1 1 1]           0.321           0.211           0.236   \n",
      "\n",
      "                [1 1 1 1 1 1 0] [1 1 1 1 1 1 1]  \n",
      "[0 0 0 0 0 0 0]           0.344             0.5  \n",
      "[0 0 0 0 0 0 1]             0.5           0.656  \n",
      "[0 0 0 0 0 1 0]             0.5           0.651  \n",
      "[0 0 0 0 0 1 1]           0.469           0.648  \n",
      "[0 0 0 0 1 0 0]           0.492           0.641  \n",
      "...                         ...             ...  \n",
      "[1 1 1 1 0 1 1]           0.486           0.679  \n",
      "[1 1 1 1 1 0 0]           0.663           0.789  \n",
      "[1 1 1 1 1 0 1]           0.611           0.764  \n",
      "[1 1 1 1 1 1 0]             1.0           0.992  \n",
      "[1 1 1 1 1 1 1]           0.008             1.0  \n",
      "\n",
      "[128 rows x 128 columns]\n"
     ]
    }
   ],
   "source": [
    "if __name__ == '__main__':\n",
    "    main()"
   ],
   "metadata": {
    "collapsed": false,
    "ExecuteTime": {
     "end_time": "2023-11-07T01:07:10.560649Z",
     "start_time": "2023-11-07T01:07:01.234097Z"
    }
   },
   "id": "c5e2e3d070195c75"
  }
 ],
 "metadata": {
  "kernelspec": {
   "display_name": "Python 3",
   "language": "python",
   "name": "python3"
  },
  "language_info": {
   "codemirror_mode": {
    "name": "ipython",
    "version": 2
   },
   "file_extension": ".py",
   "mimetype": "text/x-python",
   "name": "python",
   "nbconvert_exporter": "python",
   "pygments_lexer": "ipython2",
   "version": "2.7.6"
  }
 },
 "nbformat": 4,
 "nbformat_minor": 5
}
