{
 "cells": [
  {
   "cell_type": "markdown",
   "source": [
    "# Conway's Algorithm in Python through the Martingale Strategy"
   ],
   "metadata": {
    "collapsed": false
   },
   "id": "eb74c750d9376bdc"
  },
  {
   "cell_type": "markdown",
   "source": [
    "## Imports"
   ],
   "metadata": {
    "collapsed": false
   },
   "id": "3261674785117e83"
  },
  {
   "cell_type": "code",
   "execution_count": 19,
   "outputs": [],
   "source": [
    "import math\n",
    "import numpy as np\n",
    "import pandas as pd\n",
    "import itertools"
   ],
   "metadata": {
    "collapsed": false,
    "ExecuteTime": {
     "end_time": "2023-11-09T06:57:45.068155Z",
     "start_time": "2023-11-09T06:57:45.053356Z"
    }
   },
   "id": "dfc53eaac08a3820"
  },
  {
   "cell_type": "markdown",
   "source": [
    "## Functions"
   ],
   "metadata": {
    "collapsed": false
   },
   "id": "5f756f61f7932bd0"
  },
  {
   "cell_type": "code",
   "execution_count": 20,
   "outputs": [],
   "source": [
    "def create_cases(num_of_chars: int, length_of_case: int) -> list[np.ndarray]:\n",
    "    \"\"\"\n",
    "    Function to create all possible case combinations for when the number of characters available is equal to num_of_chars and the length of the cases is equal to length_of_case.\n",
    "    \n",
    "    :param num_of_chars: The maximum number of distinct characters that can be used to create each case.\n",
    "    :param length_of_case: The length of all cases\n",
    "    :return: A list containing each combination in the form of numpy© arrays.\n",
    "    \"\"\"\n",
    "    return [np.array(i) for i in itertools.product(range(num_of_chars), repeat=length_of_case)]"
   ],
   "metadata": {
    "collapsed": false,
    "ExecuteTime": {
     "end_time": "2023-11-09T06:57:45.068973Z",
     "start_time": "2023-11-09T06:57:45.059174Z"
    }
   },
   "id": "26f91b144fddb7e7"
  },
  {
   "cell_type": "code",
   "execution_count": 21,
   "outputs": [],
   "source": [
    "def gcd_euclid(a: float, b: float):\n",
    "    while not b == 0:\n",
    "        a, b = b, a % b\n",
    "        \n",
    "    return a"
   ],
   "metadata": {
    "collapsed": false,
    "ExecuteTime": {
     "end_time": "2023-11-09T06:57:45.069257Z",
     "start_time": "2023-11-09T06:57:45.062533Z"
    }
   },
   "id": "a6ec40999cf9459e"
  },
  {
   "cell_type": "code",
   "execution_count": 22,
   "outputs": [],
   "source": [
    "def conways_function(standard: np.ndarray, comparer: np.ndarray, number_of_characters: int, length_of_cases: int) -> int:\n",
    "    \"\"\"\n",
    "    Function that uses the Martingale Strategy to compute the value of (number_of_characters)-base string comparisons used in Conway's Algorithm\n",
    "    \n",
    "    :param standard: The (number_of_characters)-base string that is compared to\n",
    "    :param comparer: The (number_of_characters)-base string that is being compared\n",
    "    :param number_of_characters: The maximum number of distinct characters that can be used in each case.\n",
    "    :param length_of_cases: The length of all cases\n",
    "    :return: The value of binary string comparison between the standard and comparer (number_of_characters)-base combination\n",
    "    \"\"\"\n",
    "    result = 0\n",
    "    for i in range(length_of_cases):\n",
    "        test = comparer[i:]\n",
    "        power = 0\n",
    "        for j in range(length_of_cases - (i + 1), -1, -1):\n",
    "            if test[j] == standard[j]:\n",
    "                power += 1\n",
    "            else:\n",
    "                break\n",
    "        \n",
    "        if power != 0:\n",
    "            result += math.pow(number_of_characters, power)\n",
    "    \n",
    "    # print(result, end=\"\\t\")\n",
    "    return result"
   ],
   "metadata": {
    "collapsed": false,
    "ExecuteTime": {
     "end_time": "2023-11-09T06:57:45.070029Z",
     "start_time": "2023-11-09T06:57:45.066855Z"
    }
   },
   "id": "61f6136525636d17"
  },
  {
   "cell_type": "code",
   "execution_count": 23,
   "outputs": [],
   "source": [
    "def relative_win_probability(standard: np.ndarray, comparer: np.ndarray, num_of_char: int, len_of_case: int) -> tuple[int, int]:\n",
    "    \"\"\"\n",
    "    Calculates, according to Conway's Algorithm, the relative chance the player with the standard (num_of_char)-base string (player A) beats the player with the comparer (num_of_char)-base string (player B).\n",
    "    \n",
    "    :param standard: The (number_of_characters)-base string that is compared to.\n",
    "    :param comparer: The (number_of_characters)-base string that is being compared.\n",
    "    :param num_of_char: The maximum number of distinct characters that can be used in each case.\n",
    "    :param len_of_case: The length of all cases.\n",
    "    :return: The relative chance for player A to win over player B, or P(A win) / P(B win).\n",
    "    \"\"\"\n",
    "    dividend = conways_function(comparer, comparer, num_of_char, len_of_case) - conways_function(comparer, standard, num_of_char, len_of_case)\n",
    "    divisor = conways_function(standard, standard, num_of_char, len_of_case) - conways_function(standard, comparer, num_of_char, len_of_case)\n",
    "    \n",
    "    # print(dividend, \"/\", divisor)\n",
    "    return dividend, divisor"
   ],
   "metadata": {
    "collapsed": false,
    "ExecuteTime": {
     "end_time": "2023-11-09T06:57:45.083298Z",
     "start_time": "2023-11-09T06:57:45.071124Z"
    }
   },
   "id": "b8d0c23922276d6e"
  },
  {
   "cell_type": "code",
   "execution_count": 24,
   "outputs": [],
   "source": [
    "def win_probability(number_of_characters: int, length_of_case: int) -> pd.DataFrame:\n",
    "    \"\"\"\n",
    "    Calculates the win probability of player A's case over player B's case in the form of a data frame with each case for the indexes and columns\n",
    "    \n",
    "    :param number_of_characters: The maximum number of distinct characters that can be used in each case.\n",
    "    :param length_of_case: The length of all cases.\n",
    "    :return: A dataframe containing the probabilities to win \n",
    "    \"\"\"\n",
    "    cases = create_cases(num_of_chars=number_of_characters, length_of_case=length_of_case)\n",
    "    indexes = []\n",
    "    for case in cases:\n",
    "        indexes.append(np.array2string(case))\n",
    "    \n",
    "    df = pd.DataFrame(columns=indexes, index=indexes)\n",
    "    \n",
    "    for case in cases:\n",
    "        df.loc[np.array2string(case), np.array2string(case)] = 1.0\n",
    "    \n",
    "    for i in range(len(cases)):\n",
    "        for j in range(i + 1, len(cases)):\n",
    "            ratio = relative_win_probability(standard=cases[i], comparer=cases[j], num_of_char=number_of_characters, len_of_case=length_of_case)\n",
    "            # minimizer = gcd_euclid(ratio[0], ratio[1])\n",
    "            \n",
    "            df.loc[np.array2string(cases[i]), np.array2string(cases[j])] = round(ratio[0] / (ratio[0] + ratio[1]) * 1000) / 1000\n",
    "            # (ratio[0] // minimizer, (ratio[0] + ratio[1]) // minimizer)\n",
    "            # ratio[0] / (ratio[0] + ratio[1])\n",
    "            df.loc[np.array2string(cases[j]), np.array2string(cases[i])] = round(ratio[1] / (ratio[0] + ratio[1]) * 1000) / 1000\n",
    "            # (ratio[1] // minimizer, (ratio[0] + ratio[1]) // minimizer)\n",
    "            # ratio[1] / (ratio[0] + ratio[1])\n",
    "            \n",
    "    return df"
   ],
   "metadata": {
    "collapsed": false,
    "ExecuteTime": {
     "end_time": "2023-11-09T06:57:45.083878Z",
     "start_time": "2023-11-09T06:57:45.076878Z"
    }
   },
   "id": "6797cb5fb78e6ae4"
  },
  {
   "cell_type": "code",
   "execution_count": 25,
   "outputs": [],
   "source": [
    "def record_on_csv(probability_chart: pd.DataFrame, num_of_chars: int, len_of_cases: int) -> bool:\n",
    "    try:\n",
    "        probability_chart.to_csv(f'./conway_algorithm_results/win_prob_chart_{num_of_chars}_{len_of_cases}.csv')\n",
    "        return True\n",
    "    except FileNotFoundError:\n",
    "        return False"
   ],
   "metadata": {
    "collapsed": false,
    "ExecuteTime": {
     "end_time": "2023-11-09T06:57:45.084049Z",
     "start_time": "2023-11-09T06:57:45.079606Z"
    }
   },
   "id": "81546300da0cc90"
  },
  {
   "cell_type": "markdown",
   "source": [
    "## Execute / Main"
   ],
   "metadata": {
    "collapsed": false
   },
   "id": "4e63cfb10652726f"
  },
  {
   "cell_type": "code",
   "execution_count": 26,
   "outputs": [],
   "source": [
    "def main():\n",
    "    m = int(input(\"Input the number of characters to use: \"))\n",
    "    n = int(input(\"Input the length of case to use: \"))\n",
    "    win_probability_chart = win_probability(number_of_characters=m, length_of_case=n)\n",
    "    \n",
    "    # print(\"Win Probability Chart: \", end=\"\\n\\n\")\n",
    "    # print(win_probability_chart)\n",
    "    \n",
    "    record_on_csv(probability_chart=win_probability_chart, num_of_chars=m, len_of_cases=n)"
   ],
   "metadata": {
    "collapsed": false,
    "ExecuteTime": {
     "end_time": "2023-11-09T06:57:45.084680Z",
     "start_time": "2023-11-09T06:57:45.082472Z"
    }
   },
   "id": "e68370aa578c970"
  },
  {
   "cell_type": "code",
   "execution_count": 27,
   "outputs": [],
   "source": [
    "if __name__ == '__main__':\n",
    "    main()"
   ],
   "metadata": {
    "collapsed": false,
    "ExecuteTime": {
     "end_time": "2023-11-09T06:58:55.429469Z",
     "start_time": "2023-11-09T06:57:45.085128Z"
    }
   },
   "id": "c5e2e3d070195c75"
  }
 ],
 "metadata": {
  "kernelspec": {
   "display_name": "Python 3",
   "language": "python",
   "name": "python3"
  },
  "language_info": {
   "codemirror_mode": {
    "name": "ipython",
    "version": 2
   },
   "file_extension": ".py",
   "mimetype": "text/x-python",
   "name": "python",
   "nbconvert_exporter": "python",
   "pygments_lexer": "ipython2",
   "version": "2.7.6"
  }
 },
 "nbformat": 4,
 "nbformat_minor": 5
}
