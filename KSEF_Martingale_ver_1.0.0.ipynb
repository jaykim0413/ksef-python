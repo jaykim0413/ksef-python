{
 "cells": [
  {
   "cell_type": "code",
   "execution_count": 114,
   "outputs": [],
   "source": [
    "import string\n",
    "import math\n",
    "import numpy as np"
   ],
   "metadata": {
    "collapsed": false,
    "ExecuteTime": {
     "end_time": "2023-09-10T08:38:41.984637Z",
     "start_time": "2023-09-10T08:38:41.983840Z"
    }
   },
   "id": "286500b7521cdf23"
  },
  {
   "cell_type": "code",
   "execution_count": 115,
   "outputs": [],
   "source": [
    "tmp = string.digits + string.ascii_lowercase\n",
    "def convert_base(num: int, base: int):\n",
    "    q, r = divmod(num, base)\n",
    "    if q == 0:\n",
    "        return tmp[r]\n",
    "    else:\n",
    "        return convert_base(q, base) + tmp[r]"
   ],
   "metadata": {
    "collapsed": false,
    "ExecuteTime": {
     "end_time": "2023-09-10T08:38:41.990762Z",
     "start_time": "2023-09-10T08:38:41.988015Z"
    }
   },
   "id": "9f87c1b6de5e320e"
  },
  {
   "cell_type": "code",
   "execution_count": 116,
   "outputs": [],
   "source": [
    "def create_cases(num_of_chars: int, length_of_case: int):\n",
    "    cases = []\n",
    "    for i in range(int(math.pow(num_of_chars, length_of_case))):\n",
    "        result = convert_base(i, num_of_chars)\n",
    "        absorbing_state = np.array([])\n",
    "        for j in range(length_of_case - len(result)):\n",
    "            absorbing_state = np.append(absorbing_state, 0)\n",
    "        for j in range(len(result)):\n",
    "            if 48 <= ord(result[j]) <= 57:\n",
    "                absorbing_state = np.append(absorbing_state, int(result[j]))\n",
    "            else:\n",
    "                absorbing_state = np.append(absorbing_state, int(ord(result[j]) - 87))\n",
    "        cases.append(absorbing_state)\n",
    "    \n",
    "    return cases"
   ],
   "metadata": {
    "collapsed": false,
    "ExecuteTime": {
     "end_time": "2023-09-10T08:38:41.998897Z",
     "start_time": "2023-09-10T08:38:41.994861Z"
    }
   },
   "id": "1a021e199e49ea46"
  },
  {
   "cell_type": "code",
   "execution_count": 117,
   "outputs": [],
   "source": [
    "def expected_values(num_of_chars: int, length_of_case: int) -> dict:\n",
    "    cases = create_cases(num_of_chars, length_of_case)\n",
    "    case_value_dictionary = {}\n",
    "    \n",
    "    for case in cases:\n",
    "        # print(np.array2string(case) + \": \")\n",
    "        expected_value = math.pow(num_of_chars, length_of_case)\n",
    "        for i in range(1, length_of_case):\n",
    "            test = case[i:]\n",
    "            # print(\"Test case \" + np.array2string(test) + \": \", end=\"\")\n",
    "            power = 0\n",
    "            for j in range(length_of_case - i):\n",
    "                if test[j] == case[j]:\n",
    "                    power += 1\n",
    "                else:\n",
    "                    break\n",
    "            if power != 0:\n",
    "                expected_value += math.pow(num_of_chars, power)\n",
    "            # print(expected_value)\n",
    "    \n",
    "        case_value_dictionary[np.array2string(case)] = expected_value\n",
    "    \n",
    "    return case_value_dictionary"
   ],
   "metadata": {
    "collapsed": false,
    "ExecuteTime": {
     "end_time": "2023-09-10T08:38:42.003441Z",
     "start_time": "2023-09-10T08:38:42.001699Z"
    }
   },
   "id": "2ef467e862ab998"
  },
  {
   "cell_type": "code",
   "execution_count": 118,
   "id": "initial_id",
   "metadata": {
    "collapsed": true,
    "ExecuteTime": {
     "end_time": "2023-09-10T08:38:42.007300Z",
     "start_time": "2023-09-10T08:38:42.005287Z"
    }
   },
   "outputs": [],
   "source": [
    "def main():\n",
    "    m = int(input(\"Number of Characters: \"))\n",
    "    n = int(input(\"Length of Case: \"))\n",
    "    \n",
    "    dictionary = expected_values(m, n)\n",
    "    cases = create_cases(m, n)\n",
    "    \n",
    "    for i in range(len(cases)):\n",
    "        print(np.array2string(cases[i]), dictionary[np.array2string(cases[i])])"
   ]
  },
  {
   "cell_type": "code",
   "execution_count": 119,
   "outputs": [
    {
     "name": "stdout",
     "output_type": "stream",
     "text": [
      "[0. 0. 0. 0. 0. 0.] 126.0\n",
      "[0. 0. 0. 0. 0. 1.] 94.0\n",
      "[0. 0. 0. 0. 1. 0.] 80.0\n",
      "[0. 0. 0. 0. 1. 1.] 78.0\n",
      "[0. 0. 0. 1. 0. 0.] 76.0\n",
      "[0. 0. 0. 1. 0. 1.] 72.0\n",
      "[0. 0. 0. 1. 1. 0.] 72.0\n",
      "[0. 0. 0. 1. 1. 1.] 70.0\n",
      "[0. 0. 1. 0. 0. 0.] 76.0\n",
      "[0. 0. 1. 0. 0. 1.] 76.0\n",
      "[0. 0. 1. 0. 1. 0.] 70.0\n",
      "[0. 0. 1. 0. 1. 1.] 68.0\n",
      "[0. 0. 1. 1. 0. 0.] 72.0\n",
      "[0. 0. 1. 1. 0. 1.] 68.0\n",
      "[0. 0. 1. 1. 1. 0.] 68.0\n",
      "[0. 0. 1. 1. 1. 1.] 66.0\n",
      "[0. 1. 0. 0. 0. 0.] 72.0\n",
      "[0. 1. 0. 0. 0. 1.] 72.0\n",
      "[0. 1. 0. 0. 1. 0.] 76.0\n",
      "[0. 1. 0. 0. 1. 1.] 70.0\n",
      "[0. 1. 0. 1. 0. 0.] 76.0\n",
      "[0. 1. 0. 1. 0. 1.] 84.0\n",
      "[0. 1. 0. 1. 1. 0.] 70.0\n",
      "[0. 1. 0. 1. 1. 1.] 68.0\n",
      "[0. 1. 1. 0. 0. 0.] 70.0\n",
      "[0. 1. 1. 0. 0. 1.] 70.0\n",
      "[0. 1. 1. 0. 1. 0.] 70.0\n",
      "[0. 1. 1. 0. 1. 1.] 72.0\n",
      "[0. 1. 1. 1. 0. 0.] 68.0\n",
      "[0. 1. 1. 1. 0. 1.] 68.0\n",
      "[0. 1. 1. 1. 1. 0.] 66.0\n",
      "[0. 1. 1. 1. 1. 1.] 64.0\n",
      "[1. 0. 0. 0. 0. 0.] 64.0\n",
      "[1. 0. 0. 0. 0. 1.] 66.0\n",
      "[1. 0. 0. 0. 1. 0.] 68.0\n",
      "[1. 0. 0. 0. 1. 1.] 68.0\n",
      "[1. 0. 0. 1. 0. 0.] 72.0\n",
      "[1. 0. 0. 1. 0. 1.] 70.0\n",
      "[1. 0. 0. 1. 1. 0.] 70.0\n",
      "[1. 0. 0. 1. 1. 1.] 70.0\n",
      "[1. 0. 1. 0. 0. 0.] 68.0\n",
      "[1. 0. 1. 0. 0. 1.] 70.0\n",
      "[1. 0. 1. 0. 1. 0.] 84.0\n",
      "[1. 0. 1. 0. 1. 1.] 76.0\n",
      "[1. 0. 1. 1. 0. 0.] 70.0\n",
      "[1. 0. 1. 1. 0. 1.] 76.0\n",
      "[1. 0. 1. 1. 1. 0.] 72.0\n",
      "[1. 0. 1. 1. 1. 1.] 72.0\n",
      "[1. 1. 0. 0. 0. 0.] 66.0\n",
      "[1. 1. 0. 0. 0. 1.] 68.0\n",
      "[1. 1. 0. 0. 1. 0.] 68.0\n",
      "[1. 1. 0. 0. 1. 1.] 72.0\n",
      "[1. 1. 0. 1. 0. 0.] 68.0\n",
      "[1. 1. 0. 1. 0. 1.] 70.0\n",
      "[1. 1. 0. 1. 1. 0.] 76.0\n",
      "[1. 1. 0. 1. 1. 1.] 76.0\n",
      "[1. 1. 1. 0. 0. 0.] 70.0\n",
      "[1. 1. 1. 0. 0. 1.] 72.0\n",
      "[1. 1. 1. 0. 1. 0.] 72.0\n",
      "[1. 1. 1. 0. 1. 1.] 76.0\n",
      "[1. 1. 1. 1. 0. 0.] 78.0\n",
      "[1. 1. 1. 1. 0. 1.] 80.0\n",
      "[1. 1. 1. 1. 1. 0.] 94.0\n",
      "[1. 1. 1. 1. 1. 1.] 126.0\n"
     ]
    }
   ],
   "source": [
    "if __name__=='__main__':\n",
    "    main()"
   ],
   "metadata": {
    "collapsed": false,
    "ExecuteTime": {
     "end_time": "2023-09-10T08:38:43.469023Z",
     "start_time": "2023-09-10T08:38:42.008621Z"
    }
   },
   "id": "e8116c3a43bc5422"
  }
 ],
 "metadata": {
  "kernelspec": {
   "display_name": "Python 3",
   "language": "python",
   "name": "python3"
  },
  "language_info": {
   "codemirror_mode": {
    "name": "ipython",
    "version": 2
   },
   "file_extension": ".py",
   "mimetype": "text/x-python",
   "name": "python",
   "nbconvert_exporter": "python",
   "pygments_lexer": "ipython2",
   "version": "2.7.6"
  }
 },
 "nbformat": 4,
 "nbformat_minor": 5
}
