{
 "cells": [
  {
   "cell_type": "code",
   "execution_count": 659,
   "outputs": [],
   "source": [
    "import string\n",
    "import math\n",
    "import numpy as np\n",
    "import csv"
   ],
   "metadata": {
    "collapsed": false,
    "ExecuteTime": {
     "end_time": "2023-09-10T15:45:22.009109Z",
     "start_time": "2023-09-10T15:45:22.006797Z"
    }
   },
   "id": "286500b7521cdf23"
  },
  {
   "cell_type": "code",
   "execution_count": 660,
   "outputs": [],
   "source": [
    "tmp = string.digits + string.ascii_lowercase\n",
    "def convert_base(num: int, base: int):\n",
    "    q, r = divmod(num, base)\n",
    "    if q == 0:\n",
    "        return tmp[r]\n",
    "    else:\n",
    "        return convert_base(q, base) + tmp[r]"
   ],
   "metadata": {
    "collapsed": false,
    "ExecuteTime": {
     "end_time": "2023-09-10T15:45:22.013432Z",
     "start_time": "2023-09-10T15:45:22.011161Z"
    }
   },
   "id": "9f87c1b6de5e320e"
  },
  {
   "cell_type": "code",
   "execution_count": 661,
   "outputs": [],
   "source": [
    "def record_on_csv(number_of_characters: int, length_of_case: int, cases: list, dictionary: dict):\n",
    "    with open(\"./martingale_results/expected_values_17.csv\", 'a') as function:\n",
    "        writer = csv.writer(function)\n",
    "        for i in range(len(cases)):\n",
    "            writer.writerow([number_of_characters, length_of_case, np.array2string(cases[i]), dictionary[np.array2string(cases[i])]])"
   ],
   "metadata": {
    "collapsed": false,
    "ExecuteTime": {
     "end_time": "2023-09-10T15:45:22.020003Z",
     "start_time": "2023-09-10T15:45:22.014789Z"
    }
   },
   "id": "a8c3b019bbe7e601"
  },
  {
   "cell_type": "code",
   "execution_count": 662,
   "outputs": [],
   "source": [
    "def create_cases(num_of_chars: int, length_of_case: int):\n",
    "    cases = []\n",
    "    for i in range(int(math.pow(num_of_chars, length_of_case))):\n",
    "        result = convert_base(i, num_of_chars)\n",
    "        absorbing_state = np.array([])\n",
    "        for j in range(length_of_case - len(result)):\n",
    "            absorbing_state = np.append(absorbing_state, 0)\n",
    "        for j in range(len(result)):\n",
    "            if 48 <= ord(result[j]) <= 57:\n",
    "                absorbing_state = np.append(absorbing_state, int(result[j]))\n",
    "            else:\n",
    "                absorbing_state = np.append(absorbing_state, int(ord(result[j]) - 87))\n",
    "        cases.append(absorbing_state)\n",
    "    \n",
    "    return cases"
   ],
   "metadata": {
    "collapsed": false,
    "ExecuteTime": {
     "end_time": "2023-09-10T15:45:22.024526Z",
     "start_time": "2023-09-10T15:45:22.019043Z"
    }
   },
   "id": "1a021e199e49ea46"
  },
  {
   "cell_type": "code",
   "execution_count": 663,
   "outputs": [],
   "source": [
    "def expected_values(num_of_chars: int, length_of_case: int) -> dict:\n",
    "    cases = create_cases(num_of_chars, length_of_case)\n",
    "    case_value_dictionary = {}\n",
    "    \n",
    "    for case in cases:\n",
    "        # print(np.array2string(case) + \": \")\n",
    "        expected_value = math.pow(num_of_chars, length_of_case)\n",
    "        for i in range(1, length_of_case):\n",
    "            test = case[i:]\n",
    "            # print(\"Test case \" + np.array2string(test) + \": \", end=\"\")\n",
    "            power = 0\n",
    "            for j in range(length_of_case - i):\n",
    "                if test[j] == case[j]:\n",
    "                    power += 1\n",
    "                else:\n",
    "                    break\n",
    "            if power != 0:\n",
    "                expected_value += math.pow(num_of_chars, power)\n",
    "            # print(expected_value)\n",
    "    \n",
    "        case_value_dictionary[np.array2string(case)] = expected_value\n",
    "    \n",
    "    return case_value_dictionary"
   ],
   "metadata": {
    "collapsed": false,
    "ExecuteTime": {
     "end_time": "2023-09-10T15:45:22.028370Z",
     "start_time": "2023-09-10T15:45:22.024771Z"
    }
   },
   "id": "2ef467e862ab998"
  },
  {
   "cell_type": "code",
   "execution_count": 664,
   "id": "initial_id",
   "metadata": {
    "collapsed": true,
    "ExecuteTime": {
     "end_time": "2023-09-10T15:45:22.031639Z",
     "start_time": "2023-09-10T15:45:22.028199Z"
    }
   },
   "outputs": [],
   "source": [
    "def main():\n",
    "    m = int(input(\"Number of Characters: \"))\n",
    "    n = int(input(\"Length of Case: \"))\n",
    "    \n",
    "    dictionary = expected_values(m, n)\n",
    "    cases = create_cases(m, n)\n",
    "    \n",
    "    record_on_csv(m, n, cases, dictionary)\n",
    "    \n",
    "    # for i in range(len(cases)):\n",
    "        # print(np.array2string(cases[i]),\":\", dictionary[np.array2string(cases[i])])"
   ]
  },
  {
   "cell_type": "code",
   "execution_count": 665,
   "outputs": [],
   "source": [
    "if __name__=='__main__':\n",
    "    main()"
   ],
   "metadata": {
    "collapsed": false,
    "ExecuteTime": {
     "end_time": "2023-09-10T15:45:23.773223Z",
     "start_time": "2023-09-10T15:45:22.031230Z"
    }
   },
   "id": "e8116c3a43bc5422"
  }
 ],
 "metadata": {
  "kernelspec": {
   "display_name": "Python 3",
   "language": "python",
   "name": "python3"
  },
  "language_info": {
   "codemirror_mode": {
    "name": "ipython",
    "version": 2
   },
   "file_extension": ".py",
   "mimetype": "text/x-python",
   "name": "python",
   "nbconvert_exporter": "python",
   "pygments_lexer": "ipython2",
   "version": "2.7.6"
  }
 },
 "nbformat": 4,
 "nbformat_minor": 5
}
