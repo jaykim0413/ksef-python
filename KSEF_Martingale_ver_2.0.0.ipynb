{
 "cells": [
  {
   "cell_type": "code",
   "execution_count": 13,
   "outputs": [],
   "source": [
    "import math\n",
    "import numpy as np\n",
    "import csv\n",
    "import itertools"
   ],
   "metadata": {
    "collapsed": false,
    "ExecuteTime": {
     "end_time": "2023-11-05T02:41:29.150638Z",
     "start_time": "2023-11-05T02:41:29.143239Z"
    }
   },
   "id": "286500b7521cdf23"
  },
  {
   "cell_type": "code",
   "execution_count": 14,
   "outputs": [],
   "source": [
    "def create_cases(num_of_chars: int, length_of_case: int) -> list[np.ndarray]:\n",
    "    return [np.array(i) for i in itertools.product(range(num_of_chars), repeat = length_of_case)]"
   ],
   "metadata": {
    "collapsed": false,
    "ExecuteTime": {
     "end_time": "2023-11-05T02:41:29.151065Z",
     "start_time": "2023-11-05T02:41:29.147946Z"
    }
   },
   "id": "a03268ae314eb3b7"
  },
  {
   "cell_type": "code",
   "execution_count": 15,
   "outputs": [],
   "source": [
    "def record_on_csv(number_of_characters: int, length_of_case: int, cases: list, dictionary: dict) -> None:\n",
    "    with open(\"./martingale_results/expected_values_17.csv\", 'a') as function:\n",
    "        writer = csv.writer(function)\n",
    "        for i in range(len(cases)):\n",
    "            writer.writerow([number_of_characters, length_of_case, np.array2string(cases[i]), dictionary[np.array2string(cases[i])]])"
   ],
   "metadata": {
    "collapsed": false,
    "ExecuteTime": {
     "end_time": "2023-11-05T02:41:29.157454Z",
     "start_time": "2023-11-05T02:41:29.151366Z"
    }
   },
   "id": "a8c3b019bbe7e601"
  },
  {
   "cell_type": "code",
   "execution_count": 16,
   "outputs": [],
   "source": [
    "def expected_values(num_of_chars: int, length_of_case: int) -> tuple[dict[str, float], list[np.ndarray]]:\n",
    "    cases = create_cases(num_of_chars, length_of_case)\n",
    "    case_value_dictionary = {}\n",
    "    \n",
    "    for case in cases:\n",
    "        expected_value = math.pow(num_of_chars, length_of_case)\n",
    "        for i in range(length_of_case - 1):\n",
    "            test = case[i + 1:]\n",
    "            power = 0\n",
    "            for j in range(length_of_case - (i + 2), -1, -1):\n",
    "                if test[j] == case[j]:\n",
    "                    power += 1\n",
    "                else:\n",
    "                    break\n",
    "            if power != 0:\n",
    "                expected_value += math.pow(num_of_chars, power)\n",
    "    \n",
    "        case_value_dictionary[np.array2string(case)] = expected_value\n",
    "    \n",
    "    return case_value_dictionary, cases"
   ],
   "metadata": {
    "collapsed": false,
    "ExecuteTime": {
     "end_time": "2023-11-05T02:41:29.164607Z",
     "start_time": "2023-11-05T02:41:29.157658Z"
    }
   },
   "id": "2ef467e862ab998"
  },
  {
   "cell_type": "code",
   "execution_count": 17,
   "id": "initial_id",
   "metadata": {
    "collapsed": true,
    "ExecuteTime": {
     "end_time": "2023-11-05T02:41:29.165234Z",
     "start_time": "2023-11-05T02:41:29.162419Z"
    }
   },
   "outputs": [],
   "source": [
    "def main():\n",
    "    m = int(input(\"Number of Characters: \"))\n",
    "    n = int(input(\"Length of Case: \"))\n",
    "    \n",
    "    exp_val = expected_values(num_of_chars=m, length_of_case=n)\n",
    "    \n",
    "    dictionary = exp_val[0]\n",
    "    cases = exp_val[1]\n",
    "        \n",
    "    for i in range(len(cases)):\n",
    "        key = np.array2string(cases[i])\n",
    "        print(key,\":\", dictionary[key])"
   ]
  },
  {
   "cell_type": "code",
   "execution_count": 18,
   "outputs": [
    {
     "name": "stdout",
     "output_type": "stream",
     "text": [
      "[0 0 0] : 14.0\n",
      "[0 0 1] : 8.0\n",
      "[0 1 0] : 10.0\n",
      "[0 1 1] : 10.0\n",
      "[1 0 0] : 10.0\n",
      "[1 0 1] : 10.0\n",
      "[1 1 0] : 8.0\n",
      "[1 1 1] : 14.0\n"
     ]
    }
   ],
   "source": [
    "if __name__=='__main__':\n",
    "    main()"
   ],
   "metadata": {
    "collapsed": false,
    "ExecuteTime": {
     "end_time": "2023-11-05T02:41:31.056630Z",
     "start_time": "2023-11-05T02:41:29.165417Z"
    }
   },
   "id": "e8116c3a43bc5422"
  }
 ],
 "metadata": {
  "kernelspec": {
   "display_name": "Python 3",
   "language": "python",
   "name": "python3"
  },
  "language_info": {
   "codemirror_mode": {
    "name": "ipython",
    "version": 2
   },
   "file_extension": ".py",
   "mimetype": "text/x-python",
   "name": "python",
   "nbconvert_exporter": "python",
   "pygments_lexer": "ipython2",
   "version": "2.7.6"
  }
 },
 "nbformat": 4,
 "nbformat_minor": 5
}
