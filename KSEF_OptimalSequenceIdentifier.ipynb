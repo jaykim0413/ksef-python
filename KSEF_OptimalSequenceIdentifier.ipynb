{
 "cells": [
  {
   "cell_type": "code",
   "execution_count": 10,
   "id": "76528f09",
   "metadata": {
    "ExecuteTime": {
     "end_time": "2023-12-24T18:47:51.979450Z",
     "start_time": "2023-12-24T18:47:50.191205Z"
    }
   },
   "outputs": [],
   "source": [
    "import numpy as np\n",
    "import matplotlib.pyplot as plt\n",
    "from collections import Counter\n",
    "import itertools"
   ]
  },
  {
   "cell_type": "code",
   "execution_count": 2,
   "id": "cacd16c1",
   "metadata": {
    "ExecuteTime": {
     "end_time": "2023-12-24T18:19:47.594215Z",
     "start_time": "2023-12-24T18:19:47.590829Z"
    }
   },
   "outputs": [],
   "source": [
    "def generate_binary_strings(length):\n",
    "    return [''.join(bits) for bits in itertools.product('01', repeat=length)]"
   ]
  },
  {
   "cell_type": "code",
   "execution_count": 3,
   "id": "1ea282b8",
   "metadata": {
    "ExecuteTime": {
     "end_time": "2023-12-24T18:19:47.603188Z",
     "start_time": "2023-12-24T18:19:47.597217Z"
    }
   },
   "outputs": [],
   "source": [
    "def correlation(sequence1, sequence2):\n",
    "    res = 0\n",
    "    for i in range(1, min(len(sequence1), len(sequence2)) + 1):\n",
    "        if sequence1[-i:] == sequence2[:i]:\n",
    "            res += 2 ** i\n",
    "    return res"
   ]
  },
  {
   "cell_type": "code",
   "execution_count": 4,
   "id": "696fc800",
   "metadata": {
    "ExecuteTime": {
     "end_time": "2023-12-24T18:19:47.612173Z",
     "start_time": "2023-12-24T18:19:47.606190Z"
    }
   },
   "outputs": [],
   "source": [
    "# odds of sequence 'a' winning\n",
    "def conway(sequence1, sequence2):\n",
    "    return (correlation(sequence2, sequence2) - correlation(sequence2, sequence1)) / (correlation(sequence1, sequence1) - correlation(sequence1, sequence2))"
   ]
  },
  {
   "cell_type": "code",
   "execution_count": 5,
   "id": "d4ae0390",
   "metadata": {
    "ExecuteTime": {
     "end_time": "2023-12-24T18:19:47.622100Z",
     "start_time": "2023-12-24T18:19:47.614175Z"
    }
   },
   "outputs": [],
   "source": [
    "def find_optimal(sequence):\n",
    "    length = len(sequence)\n",
    "    binary_str_list = generate_binary_strings(length)\n",
    "    res = []\n",
    "    max_odds = 0\n",
    "    for binary_string in binary_str_list:\n",
    "        if binary_string != sequence:\n",
    "            odds = conway(binary_string, sequence)\n",
    "            if odds > max_odds:\n",
    "                max_odds = odds\n",
    "                res.clear()\n",
    "                res.append(binary_string)\n",
    "            elif odds == max_odds:\n",
    "                res.append(binary_string)\n",
    "    return res, max_odds"
   ]
  },
  {
   "cell_type": "code",
   "execution_count": 6,
   "id": "5bd031b1",
   "metadata": {
    "ExecuteTime": {
     "end_time": "2023-12-24T18:19:47.638019Z",
     "start_time": "2023-12-24T18:19:47.624102Z"
    }
   },
   "outputs": [
    {
     "name": "stdout",
     "output_type": "stream",
     "text": [
      "seq   optimal   odds\n",
      "0000 ['1000'] 15.0\n",
      "0001 ['1000'] 7.0\n",
      "0010 ['0001'] 2.0\n",
      "0011 ['0001'] 2.0\n",
      "0100 ['1010'] 1.8\n",
      "0101 ['0010'] 2.5\n",
      "0110 ['0011'] 2.0\n",
      "0111 ['0011'] 2.0\n",
      "1000 ['1100'] 2.0\n",
      "1001 ['1100'] 2.0\n",
      "1010 ['1101'] 2.5\n",
      "1011 ['0101'] 1.8\n",
      "1100 ['1110'] 2.0\n",
      "1101 ['1110'] 2.0\n",
      "1110 ['0111'] 7.0\n",
      "1111 ['0111'] 15.0\n"
     ]
    }
   ],
   "source": [
    "binary_strings_list = generate_binary_strings(4) ## length of string\n",
    "print(\"seq  \", \"optimal  \", \"odds\")\n",
    "for seq in binary_strings_list:\n",
    "    print(seq, find_optimal(seq)[0], find_optimal(seq)[1])"
   ]
  },
  {
   "cell_type": "code",
   "execution_count": 7,
   "id": "c721474c",
   "metadata": {
    "ExecuteTime": {
     "end_time": "2023-12-24T18:19:48.484671Z",
     "start_time": "2023-12-24T18:19:47.640027Z"
    }
   },
   "outputs": [],
   "source": [
    "n = 9\n",
    "binary_strings_list = generate_binary_strings(n)\n",
    "auto_correlation_list = []\n",
    "correlation_list = []\n",
    "for a in binary_strings_list:\n",
    "    auto_correlation_list.append(correlation(a, a))\n",
    "    for b in binary_strings_list:\n",
    "        correlation_list.append(correlation(a, b))"
   ]
  },
  {
   "cell_type": "code",
   "execution_count": 8,
   "id": "22dfc2d6",
   "metadata": {
    "ExecuteTime": {
     "end_time": "2023-12-24T18:19:48.490896Z",
     "start_time": "2023-12-24T18:19:48.485674Z"
    }
   },
   "outputs": [
    {
     "name": "stdout",
     "output_type": "stream",
     "text": [
      "512: 148\n",
      "514: 154\n",
      "516: 60\n",
      "518: 46\n",
      "520: 28\n",
      "522: 12\n",
      "526: 12\n",
      "528: 12\n",
      "530: 12\n",
      "532: 4\n",
      "542: 2\n",
      "546: 10\n",
      "550: 2\n",
      "584: 4\n",
      "586: 2\n",
      "682: 2\n",
      "1022: 2\n"
     ]
    }
   ],
   "source": [
    "for item in sorted(Counter(auto_correlation_list).items()):\n",
    "    print(f\"{item[0]}: {item[1]}\")"
   ]
  },
  {
   "cell_type": "code",
   "execution_count": 11,
   "id": "015db456",
   "metadata": {
    "ExecuteTime": {
     "end_time": "2023-12-24T18:47:55.057388Z",
     "start_time": "2023-12-24T18:47:54.791064Z"
    }
   },
   "outputs": [
    {
     "data": {
      "text/plain": [
       "(array([448.,  40.,   2.,  12.,   0.,   0.,   0.,   6.,   0.,   0.,   0.,\n",
       "          0.,   0.,   0.,   0.,   0.,   2.,   0.,   0.,   0.,   0.,   0.,\n",
       "          0.,   0.,   0.,   0.,   0.,   0.,   0.,   0.,   0.,   0.,   0.,\n",
       "          0.,   0.,   0.,   0.,   0.,   0.,   0.,   0.,   0.,   0.,   0.,\n",
       "          0.,   0.,   0.,   0.,   0.,   2.]),\n",
       " array([ 512. ,  522.2,  532.4,  542.6,  552.8,  563. ,  573.2,  583.4,\n",
       "         593.6,  603.8,  614. ,  624.2,  634.4,  644.6,  654.8,  665. ,\n",
       "         675.2,  685.4,  695.6,  705.8,  716. ,  726.2,  736.4,  746.6,\n",
       "         756.8,  767. ,  777.2,  787.4,  797.6,  807.8,  818. ,  828.2,\n",
       "         838.4,  848.6,  858.8,  869. ,  879.2,  889.4,  899.6,  909.8,\n",
       "         920. ,  930.2,  940.4,  950.6,  960.8,  971. ,  981.2,  991.4,\n",
       "        1001.6, 1011.8, 1022. ]),\n",
       " <BarContainer object of 50 artists>)"
      ]
     },
     "execution_count": 11,
     "metadata": {},
     "output_type": "execute_result"
    },
    {
     "data": {
      "image/png": "[encoded data removed]",
      "text/plain": [
       "<Figure size 640x480 with 1 Axes>"
      ]
     },
     "metadata": {},
     "output_type": "display_data"
    }
   ],
   "source": [
    "plt.hist(auto_correlation_list, bins = 50)"
   ]
  },
  {
   "cell_type": "code",
   "execution_count": 12,
   "id": "fdb048aa",
   "metadata": {
    "ExecuteTime": {
     "end_time": "2023-12-24T18:47:56.650371Z",
     "start_time": "2023-12-24T18:47:56.644002Z"
    }
   },
   "outputs": [
    {
     "data": {
      "text/plain": [
       "520.0"
      ]
     },
     "execution_count": 12,
     "metadata": {},
     "output_type": "execute_result"
    }
   ],
   "source": [
    "np.mean(auto_correlation_list)"
   ]
  },
  {
   "cell_type": "code",
   "execution_count": 13,
   "id": "06357a50",
   "metadata": {
    "ExecuteTime": {
     "end_time": "2023-12-24T18:47:57.963858Z",
     "start_time": "2023-12-24T18:47:56.833556Z"
    },
    "scrolled": false
   },
   "outputs": [
    {
     "data": {
      "text/plain": [
       "(array([2.44992e+05, 8.66600e+03, 4.80000e+02, 4.21800e+03, 1.20000e+02,\n",
       "        0.00000e+00, 1.98400e+03, 9.60000e+01, 3.00000e+01, 0.00000e+00,\n",
       "        0.00000e+00, 0.00000e+00, 9.04000e+02, 1.04000e+02, 2.40000e+01,\n",
       "        0.00000e+00, 8.00000e+00, 0.00000e+00, 0.00000e+00, 0.00000e+00,\n",
       "        0.00000e+00, 0.00000e+00, 0.00000e+00, 0.00000e+00, 6.00000e+00,\n",
       "        4.84000e+02, 1.80000e+01, 0.00000e+00, 6.00000e+00, 0.00000e+00,\n",
       "        0.00000e+00, 0.00000e+00, 0.00000e+00, 2.00000e+00, 0.00000e+00,\n",
       "        0.00000e+00, 0.00000e+00, 0.00000e+00, 0.00000e+00, 0.00000e+00,\n",
       "        0.00000e+00, 0.00000e+00, 0.00000e+00, 0.00000e+00, 0.00000e+00,\n",
       "        0.00000e+00, 0.00000e+00, 0.00000e+00, 0.00000e+00, 2.00000e+00]),\n",
       " array([   0.  ,   20.44,   40.88,   61.32,   81.76,  102.2 ,  122.64,\n",
       "         143.08,  163.52,  183.96,  204.4 ,  224.84,  245.28,  265.72,\n",
       "         286.16,  306.6 ,  327.04,  347.48,  367.92,  388.36,  408.8 ,\n",
       "         429.24,  449.68,  470.12,  490.56,  511.  ,  531.44,  551.88,\n",
       "         572.32,  592.76,  613.2 ,  633.64,  654.08,  674.52,  694.96,\n",
       "         715.4 ,  735.84,  756.28,  776.72,  797.16,  817.6 ,  838.04,\n",
       "         858.48,  878.92,  899.36,  919.8 ,  940.24,  960.68,  981.12,\n",
       "        1001.56, 1022.  ]),\n",
       " <BarContainer object of 50 artists>)"
      ]
     },
     "execution_count": 13,
     "metadata": {},
     "output_type": "execute_result"
    },
    {
     "data": {
      "image/png": "[encoded data removed]",
      "text/plain": [
       "<Figure size 640x480 with 1 Axes>"
      ]
     },
     "metadata": {},
     "output_type": "display_data"
    }
   ],
   "source": [
    "plt.hist(correlation_list, bins = 50)"
   ]
  },
  {
   "cell_type": "code",
   "execution_count": null,
   "id": "b3afae63",
   "metadata": {
    "ExecuteTime": {
     "end_time": "2023-12-24T18:47:58.028056Z",
     "start_time": "2023-12-24T18:47:58.028056Z"
    }
   },
   "outputs": [],
   "source": [
    "np.mean(correlation_list)"
   ]
  },
  {
   "cell_type": "code",
   "execution_count": null,
   "id": "c0e8ecac",
   "metadata": {},
   "outputs": [],
   "source": []
  }
 ],
 "metadata": {
  "kernelspec": {
   "display_name": "Python 3 (ipykernel)",
   "language": "python",
   "name": "python3"
  },
  "language_info": {
   "codemirror_mode": {
    "name": "ipython",
    "version": 3
   },
   "file_extension": ".py",
   "mimetype": "text/x-python",
   "name": "python",
   "nbconvert_exporter": "python",
   "pygments_lexer": "ipython3",
   "version": "3.11.5"
  },
  "toc": {
   "base_numbering": 1,
   "nav_menu": {},
   "number_sections": true,
   "sideBar": true,
   "skip_h1_title": false,
   "title_cell": "Table of Contents",
   "title_sidebar": "Contents",
   "toc_cell": false,
   "toc_position": {
    "height": "calc(100% - 180px)",
    "left": "10px",
    "top": "150px",
    "width": "688px"
   },
   "toc_section_display": true,
   "toc_window_display": false
  },
  "varInspector": {
   "cols": {
    "lenName": 16,
    "lenType": 16,
    "lenVar": 40
   },
   "kernels_config": {
    "python": {
     "delete_cmd_postfix": "",
     "delete_cmd_prefix": "del ",
     "library": "var_list.py",
     "varRefreshCmd": "print(var_dic_list())"
    },
    "r": {
     "delete_cmd_postfix": ") ",
     "delete_cmd_prefix": "rm(",
     "library": "var_list.r",
     "varRefreshCmd": "cat(var_dic_list()) "
    }
   },
   "types_to_exclude": [
    "module",
    "function",
    "builtin_function_or_method",
    "instance",
    "_Feature"
   ],
   "window_display": false
  }
 },
 "nbformat": 4,
 "nbformat_minor": 5
}
